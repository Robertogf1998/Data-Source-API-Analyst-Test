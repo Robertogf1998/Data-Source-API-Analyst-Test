{
  "nbformat": 4,
  "nbformat_minor": 0,
  "metadata": {
    "colab": {
      "provenance": []
    },
    "kernelspec": {
      "name": "python3",
      "display_name": "Python 3"
    },
    "language_info": {
      "name": "python"
    }
  },
  "cells": [
    {
      "cell_type": "code",
      "source": [
        "import requests\n",
        "GITHUB_TOKEN = \"Robertogf1998\"\n",
        "\n",
        "HEADERS = {\n",
        "    \"Authorization\": f\"Bearer {GITHUB_TOKEN}\",\n",
        "    \"X-GitHub-Api-Version\": \"2022-11-28\"\n",
        "}\n",
        "\n",
        "def buscar_repositorios(query, per_page=5):\n",
        "    url = f\"https://api.github.com/search/repositories?q={query}&per_page={per_page}\"\n",
        "    response = requests.get(url, headers=HEADERS)\n",
        "    if response.status_code == 200:\n",
        "        data = response.json()\n",
        "        for repo in data[\"items\"]:\n",
        "            print(f\"{repo['full_name']} - {repo['html_url']}\")\n",
        "    else:\n",
        "        print(\"Error:\", response.status_code, response.text)"
      ],
      "metadata": {
        "id": "VbCGvOe7bKDE"
      },
      "execution_count": 36,
      "outputs": []
    }
  ]
}